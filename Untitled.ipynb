{
 "cells": [
  {
   "cell_type": "code",
   "execution_count": 6,
   "metadata": {},
   "outputs": [
    {
     "ename": "ModuleNotFoundError",
     "evalue": "No module named 'core'",
     "output_type": "error",
     "traceback": [
      "\u001b[0;31m---------------------------------------------------------------------------\u001b[0m",
      "\u001b[0;31mModuleNotFoundError\u001b[0m                       Traceback (most recent call last)",
      "\u001b[0;32m<ipython-input-6-02aec2e021b3>\u001b[0m in \u001b[0;36m<module>\u001b[0;34m\u001b[0m\n\u001b[1;32m      5\u001b[0m \u001b[0;34m\u001b[0m\u001b[0m\n\u001b[1;32m      6\u001b[0m \u001b[0;31m#import pyping\u001b[0m\u001b[0;34m\u001b[0m\u001b[0;34m\u001b[0m\u001b[0;34m\u001b[0m\u001b[0m\n\u001b[0;32m----> 7\u001b[0;31m \u001b[0;32mfrom\u001b[0m \u001b[0mpyping\u001b[0m\u001b[0;34m.\u001b[0m\u001b[0mcore\u001b[0m \u001b[0;32mimport\u001b[0m \u001b[0;34m*\u001b[0m\u001b[0;34m\u001b[0m\u001b[0;34m\u001b[0m\u001b[0m\n\u001b[0m\u001b[1;32m      8\u001b[0m \u001b[0;32mfrom\u001b[0m \u001b[0mtime\u001b[0m \u001b[0;32mimport\u001b[0m \u001b[0msleep\u001b[0m\u001b[0;34m\u001b[0m\u001b[0;34m\u001b[0m\u001b[0m\n\u001b[1;32m      9\u001b[0m \u001b[0;32mfrom\u001b[0m \u001b[0mdatetime\u001b[0m \u001b[0;32mimport\u001b[0m \u001b[0mdatetime\u001b[0m\u001b[0;34m\u001b[0m\u001b[0;34m\u001b[0m\u001b[0m\n",
      "\u001b[0;32m~/anaconda3/lib/python3.7/site-packages/pyping/__init__.py\u001b[0m in \u001b[0;36m<module>\u001b[0;34m\u001b[0m\n\u001b[1;32m      1\u001b[0m \u001b[0;31m# -*- coding: utf-8 -*-\u001b[0m\u001b[0;34m\u001b[0m\u001b[0;34m\u001b[0m\u001b[0;34m\u001b[0m\u001b[0m\n\u001b[1;32m      2\u001b[0m \u001b[0;34m\u001b[0m\u001b[0m\n\u001b[0;32m----> 3\u001b[0;31m \u001b[0;32mfrom\u001b[0m \u001b[0mcore\u001b[0m \u001b[0;32mimport\u001b[0m \u001b[0;34m*\u001b[0m\u001b[0;34m\u001b[0m\u001b[0;34m\u001b[0m\u001b[0m\n\u001b[0m",
      "\u001b[0;31mModuleNotFoundError\u001b[0m: No module named 'core'"
     ]
    }
   ],
   "source": [
    "\"\"\"picofix.py: reboot the a router when it fails to contact a distant node.\"\"\"\n",
    "\n",
    "__author__ = \"Alex 'Chozabu' P-B\"\n",
    "\n",
    "\n",
    "#import pyping\n",
    "from pyping.core import *\n",
    "from time import sleep\n",
    "from datetime import datetime\n",
    "import pxssh\n",
    "\n",
    "def reboot_router():\n",
    "    try:\n",
    "        s = pxssh.pxssh()\n",
    "        s.login('192.168.0.1', 'admin', 'motorola')\n",
    "        s.sendline('reboot')   # run a command\n",
    "        s.prompt()             # match the prompt\n",
    "        print(s.before)        # print everything before the prompt.\n",
    "        s.logout()\n",
    "    except pxssh.ExceptionPxssh as e:\n",
    "        print(\"pxssh failed on login.\")\n",
    "        print(e)\n",
    "\n",
    "def main_loop():\n",
    "    reboots = [None]\n",
    "    fail_count = 0\n",
    "    ok_count = 0\n",
    "    while True:\n",
    "        if pyping.ping('192.168.32.1').ret_code:\n",
    "            ok_count = 0\n",
    "            fail_count += 1\n",
    "            print(\"FAIL\", fail_count)\n",
    "            if fail_count > 10:\n",
    "                reboots.append(datetime.now().strftime(\"%Y-%m-%m %H:%M\"))\n",
    "                print(\"rebooting router!\")\n",
    "                reboot_router()\n",
    "                print(\"rebooted router, waiting 60 seconds\")\n",
    "                print('reboots:', reboots)\n",
    "                sleep(60)\n",
    "                print(\"OK, back to normal\")\n",
    "                fail_count = 0\n",
    "        else:\n",
    "            fail_count = 0\n",
    "            ok_count += 1\n",
    "            print(\"seems OK, ok_count:\", ok_count, 'last_reboot:', reboots[-1], 'of', len(reboots)-1)\n",
    "        sleep(2)\n",
    "\n",
    "if __name__ == \"__main__\":\n",
    "    main_loop()"
   ]
  },
  {
   "cell_type": "code",
   "execution_count": 4,
   "metadata": {},
   "outputs": [
    {
     "name": "stdout",
     "output_type": "stream",
     "text": [
      "Collecting core\n",
      "\u001b[31m  ERROR: Could not find a version that satisfies the requirement core (from versions: none)\u001b[0m\n",
      "\u001b[31mERROR: No matching distribution found for core\u001b[0m\n"
     ]
    }
   ],
   "source": []
  },
  {
   "cell_type": "code",
   "execution_count": null,
   "metadata": {},
   "outputs": [],
   "source": []
  }
 ],
 "metadata": {
  "kernelspec": {
   "display_name": "Python 3",
   "language": "python",
   "name": "python3"
  },
  "language_info": {
   "codemirror_mode": {
    "name": "ipython",
    "version": 3
   },
   "file_extension": ".py",
   "mimetype": "text/x-python",
   "name": "python",
   "nbconvert_exporter": "python",
   "pygments_lexer": "ipython3",
   "version": "3.7.3"
  }
 },
 "nbformat": 4,
 "nbformat_minor": 2
}
